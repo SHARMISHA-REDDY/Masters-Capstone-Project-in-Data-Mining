{
 "cells": [
  {
   "cell_type": "markdown",
   "id": "c0ad10af",
   "metadata": {},
   "source": [
    "Classification Task and Performance Evaluation (10 points)\n",
    "\n",
    "Dr. Shen-Shyang Ho\n",
    "\n",
    "October 2, 2022\n",
    "\n",
    "• In this assignment, you will be using the dataset assigned to you in Assignment 1.\n",
    "\n",
    "• You will be assigned three classification methods from the following classification methods: Naive Bayes Classifier, Support Vector Machine (SVM), Decision Tree, Neural Network, Random Forest, Adaboost\n",
    "\n",
    "• Scikit-learn (https://scikit-learn.org/stable/user guide.html) will be used in this assignment\n",
    "\n",
    "1. Convert all the images in the dataset to grayscale pixel intensity histograms. (These will be the vector representations of the images).\n",
    "\n",
    "2. Split dataset into a training set and a test set. For each class, perform a training/test split of 80/20.\n",
    "\n",
    "3. (Model Selection) Perform 5-fold cross-validation on the training set for k-Nearest Neighbor Classifiers such that 𝑘 = 1, 3, 5, 7 on the dataset. (2 points)\n",
    "\n",
    "• Plot a graph (x-axis: k; y-axis: validation accuracy (%)). Which 𝑘 has the highest accuracy? (1 points)\n",
    "\n",
    "• Use the 𝑘 value with the highest accuracy for your k-Nearest Neighbor classifier. What is the test accuracy? (1 point)\n",
    "\n",
    "4. (Performance Comparison) Perform 5-fold cross-validation on the 4-class classification (ignore negative class) using the three assigned classification methods (if you are assigned SVM - use Gaussian kernel and C = 10). For neural network (MLPClassifier), you will use default parameters except for learning rate, you will use ’adaptive’. Plot the confusion matrices for the three approaches (clearly label the classes) using the test set (If you use code from any website, please do proper referencing. You will get 0 point for this assignment without proper referencing) (3 points)\n",
    "\n",
    "• Based on the confusion matrices (on the test set), which do you think is the best method? Why? (1 point)\n",
    "\n",
    "• Based on the validation accuracies (from the 5-fold cross-validation) for the three methods. Which is the best method? (0.5 point)\n",
    "\n",
    "• Computer the test accuracies for the three methods. Which is the best method? (0.5 point)\n",
    "\n",
    "• Compute the F-measure for the three methods on the test set. Which is the best method? (1 point)"
   ]
  },
  {
   "cell_type": "code",
   "execution_count": null,
   "id": "62c1277b",
   "metadata": {},
   "outputs": [],
   "source": []
  },
  {
   "cell_type": "markdown",
   "id": "51d05523",
   "metadata": {},
   "source": [
    "Question 1. Convert all the images in the dataset to grayscale pixel intensity histograms. (These will be the vector\n",
    "representations of the images)."
   ]
  },
  {
   "cell_type": "code",
   "execution_count": 1,
   "id": "bfbafd47",
   "metadata": {},
   "outputs": [],
   "source": [
    "# Import required libraries\n",
    "\n",
    "import pandas as pd\n",
    "import numpy as np\n",
    "import matplotlib.pyplot as plt\n",
    "import matplotlib.image as mpimg\n",
    "import cv2\n",
    "import warnings\n",
    "warnings.filterwarnings(\"ignore\")\n",
    "from sklearn.model_selection import train_test_split, cross_val_score, KFold\n",
    "from sklearn.metrics import classification_report, confusion_matrix, accuracy_score, f1_score\n",
    "from sklearn.neighbors import KNeighborsClassifier\n",
    "import scikitplot as skplt\n",
    "from sklearn.tree import DecisionTreeClassifier\n",
    "from sklearn.ensemble import AdaBoostClassifier\n",
    "from sklearn.preprocessing import LabelEncoder\n",
    "from sklearn.neural_network import MLPClassifier"
   ]
  },
  {
   "cell_type": "code",
   "execution_count": 2,
   "id": "2a466a02",
   "metadata": {},
   "outputs": [],
   "source": [
    "Dataset = pd.read_csv(\"C:/Users/SHARMISHA/Desktop/Data Mining -1/Programming Assignment 1/Weed-4class-67/Weed-4class-67-labels.csv\")"
   ]
  },
  {
   "cell_type": "code",
   "execution_count": 3,
   "id": "18cb1291",
   "metadata": {},
   "outputs": [
    {
     "data": {
      "text/html": [
       "<div>\n",
       "<style scoped>\n",
       "    .dataframe tbody tr th:only-of-type {\n",
       "        vertical-align: middle;\n",
       "    }\n",
       "\n",
       "    .dataframe tbody tr th {\n",
       "        vertical-align: top;\n",
       "    }\n",
       "\n",
       "    .dataframe thead th {\n",
       "        text-align: right;\n",
       "    }\n",
       "</style>\n",
       "<table border=\"1\" class=\"dataframe\">\n",
       "  <thead>\n",
       "    <tr style=\"text-align: right;\">\n",
       "      <th></th>\n",
       "      <th>Filename</th>\n",
       "      <th>Label</th>\n",
       "      <th>Species</th>\n",
       "    </tr>\n",
       "  </thead>\n",
       "  <tbody>\n",
       "    <tr>\n",
       "      <th>0</th>\n",
       "      <td>20161207-112417-0.jpg</td>\n",
       "      <td>8</td>\n",
       "      <td>Negative</td>\n",
       "    </tr>\n",
       "    <tr>\n",
       "      <th>1</th>\n",
       "      <td>20161207-112431-0.jpg</td>\n",
       "      <td>8</td>\n",
       "      <td>Negative</td>\n",
       "    </tr>\n",
       "    <tr>\n",
       "      <th>2</th>\n",
       "      <td>20161207-112802-0.jpg</td>\n",
       "      <td>8</td>\n",
       "      <td>Negative</td>\n",
       "    </tr>\n",
       "    <tr>\n",
       "      <th>3</th>\n",
       "      <td>20161207-112812-0.jpg</td>\n",
       "      <td>8</td>\n",
       "      <td>Negative</td>\n",
       "    </tr>\n",
       "    <tr>\n",
       "      <th>4</th>\n",
       "      <td>20170128-101909-0.jpg</td>\n",
       "      <td>8</td>\n",
       "      <td>Negative</td>\n",
       "    </tr>\n",
       "    <tr>\n",
       "      <th>...</th>\n",
       "      <td>...</td>\n",
       "      <td>...</td>\n",
       "      <td>...</td>\n",
       "    </tr>\n",
       "    <tr>\n",
       "      <th>13277</th>\n",
       "      <td>20171102-123535-3.jpg</td>\n",
       "      <td>2</td>\n",
       "      <td>Parkinsonia</td>\n",
       "    </tr>\n",
       "    <tr>\n",
       "      <th>13278</th>\n",
       "      <td>20171102-123549-2.jpg</td>\n",
       "      <td>2</td>\n",
       "      <td>Parkinsonia</td>\n",
       "    </tr>\n",
       "    <tr>\n",
       "      <th>13279</th>\n",
       "      <td>20171102-123554-3.jpg</td>\n",
       "      <td>2</td>\n",
       "      <td>Parkinsonia</td>\n",
       "    </tr>\n",
       "    <tr>\n",
       "      <th>13280</th>\n",
       "      <td>20171102-123606-2.jpg</td>\n",
       "      <td>2</td>\n",
       "      <td>Parkinsonia</td>\n",
       "    </tr>\n",
       "    <tr>\n",
       "      <th>13281</th>\n",
       "      <td>20171102-123636-2.jpg</td>\n",
       "      <td>2</td>\n",
       "      <td>Parkinsonia</td>\n",
       "    </tr>\n",
       "  </tbody>\n",
       "</table>\n",
       "<p>13282 rows × 3 columns</p>\n",
       "</div>"
      ],
      "text/plain": [
       "                    Filename  Label      Species\n",
       "0      20161207-112417-0.jpg      8     Negative\n",
       "1      20161207-112431-0.jpg      8     Negative\n",
       "2      20161207-112802-0.jpg      8     Negative\n",
       "3      20161207-112812-0.jpg      8     Negative\n",
       "4      20170128-101909-0.jpg      8     Negative\n",
       "...                      ...    ...          ...\n",
       "13277  20171102-123535-3.jpg      2  Parkinsonia\n",
       "13278  20171102-123549-2.jpg      2  Parkinsonia\n",
       "13279  20171102-123554-3.jpg      2  Parkinsonia\n",
       "13280  20171102-123606-2.jpg      2  Parkinsonia\n",
       "13281  20171102-123636-2.jpg      2  Parkinsonia\n",
       "\n",
       "[13282 rows x 3 columns]"
      ]
     },
     "execution_count": 3,
     "metadata": {},
     "output_type": "execute_result"
    }
   ],
   "source": [
    "Dataset"
   ]
  },
  {
   "cell_type": "code",
   "execution_count": 4,
   "id": "63e483c6",
   "metadata": {},
   "outputs": [],
   "source": [
    "def grey_img(img):\n",
    "    source = cv2.cvtColor(img, cv2.COLOR_BGR2GRAY)\n",
    "    return source\n",
    "\n",
    "def hist_vector(img):\n",
    "    image = cv2.imread(r\"C:/Users/SHARMISHA/Desktop/Data Mining -1/Programming Assignment 1/Weed-4class-67/{}\".format(img))\n",
    "    gray_image1 = grey_img(image)\n",
    "    hist,bins = np.histogram(gray_image1.flatten(),256,[0,256])\n",
    "    return hist\n",
    "\n",
    "vectors = []\n",
    "\n",
    "for file in Dataset['Filename']:\n",
    "    vectors.append(hist_vector(file))"
   ]
  },
  {
   "cell_type": "code",
   "execution_count": 5,
   "id": "e18354a9",
   "metadata": {},
   "outputs": [
    {
     "data": {
      "text/html": [
       "<div>\n",
       "<style scoped>\n",
       "    .dataframe tbody tr th:only-of-type {\n",
       "        vertical-align: middle;\n",
       "    }\n",
       "\n",
       "    .dataframe tbody tr th {\n",
       "        vertical-align: top;\n",
       "    }\n",
       "\n",
       "    .dataframe thead th {\n",
       "        text-align: right;\n",
       "    }\n",
       "</style>\n",
       "<table border=\"1\" class=\"dataframe\">\n",
       "  <thead>\n",
       "    <tr style=\"text-align: right;\">\n",
       "      <th></th>\n",
       "      <th>Unnamed: 0</th>\n",
       "      <th>0</th>\n",
       "      <th>1</th>\n",
       "      <th>2</th>\n",
       "      <th>3</th>\n",
       "      <th>4</th>\n",
       "      <th>5</th>\n",
       "      <th>6</th>\n",
       "      <th>7</th>\n",
       "      <th>8</th>\n",
       "      <th>...</th>\n",
       "      <th>247</th>\n",
       "      <th>248</th>\n",
       "      <th>249</th>\n",
       "      <th>250</th>\n",
       "      <th>251</th>\n",
       "      <th>252</th>\n",
       "      <th>253</th>\n",
       "      <th>254</th>\n",
       "      <th>255</th>\n",
       "      <th>label</th>\n",
       "    </tr>\n",
       "  </thead>\n",
       "  <tbody>\n",
       "    <tr>\n",
       "      <th>0</th>\n",
       "      <td>0</td>\n",
       "      <td>158</td>\n",
       "      <td>480</td>\n",
       "      <td>427</td>\n",
       "      <td>278</td>\n",
       "      <td>334</td>\n",
       "      <td>339</td>\n",
       "      <td>385</td>\n",
       "      <td>476</td>\n",
       "      <td>474</td>\n",
       "      <td>...</td>\n",
       "      <td>49</td>\n",
       "      <td>38</td>\n",
       "      <td>60</td>\n",
       "      <td>70</td>\n",
       "      <td>78</td>\n",
       "      <td>69</td>\n",
       "      <td>149</td>\n",
       "      <td>119</td>\n",
       "      <td>3</td>\n",
       "      <td>Negative</td>\n",
       "    </tr>\n",
       "    <tr>\n",
       "      <th>1</th>\n",
       "      <td>1</td>\n",
       "      <td>315</td>\n",
       "      <td>422</td>\n",
       "      <td>254</td>\n",
       "      <td>231</td>\n",
       "      <td>237</td>\n",
       "      <td>278</td>\n",
       "      <td>359</td>\n",
       "      <td>387</td>\n",
       "      <td>466</td>\n",
       "      <td>...</td>\n",
       "      <td>41</td>\n",
       "      <td>46</td>\n",
       "      <td>48</td>\n",
       "      <td>50</td>\n",
       "      <td>64</td>\n",
       "      <td>53</td>\n",
       "      <td>90</td>\n",
       "      <td>185</td>\n",
       "      <td>23</td>\n",
       "      <td>Negative</td>\n",
       "    </tr>\n",
       "    <tr>\n",
       "      <th>2</th>\n",
       "      <td>2</td>\n",
       "      <td>26</td>\n",
       "      <td>104</td>\n",
       "      <td>114</td>\n",
       "      <td>76</td>\n",
       "      <td>99</td>\n",
       "      <td>94</td>\n",
       "      <td>126</td>\n",
       "      <td>178</td>\n",
       "      <td>169</td>\n",
       "      <td>...</td>\n",
       "      <td>66</td>\n",
       "      <td>84</td>\n",
       "      <td>80</td>\n",
       "      <td>91</td>\n",
       "      <td>125</td>\n",
       "      <td>135</td>\n",
       "      <td>183</td>\n",
       "      <td>221</td>\n",
       "      <td>42</td>\n",
       "      <td>Negative</td>\n",
       "    </tr>\n",
       "    <tr>\n",
       "      <th>3</th>\n",
       "      <td>3</td>\n",
       "      <td>35</td>\n",
       "      <td>135</td>\n",
       "      <td>129</td>\n",
       "      <td>94</td>\n",
       "      <td>177</td>\n",
       "      <td>125</td>\n",
       "      <td>176</td>\n",
       "      <td>192</td>\n",
       "      <td>241</td>\n",
       "      <td>...</td>\n",
       "      <td>58</td>\n",
       "      <td>85</td>\n",
       "      <td>69</td>\n",
       "      <td>99</td>\n",
       "      <td>107</td>\n",
       "      <td>154</td>\n",
       "      <td>185</td>\n",
       "      <td>189</td>\n",
       "      <td>46</td>\n",
       "      <td>Negative</td>\n",
       "    </tr>\n",
       "    <tr>\n",
       "      <th>4</th>\n",
       "      <td>4</td>\n",
       "      <td>0</td>\n",
       "      <td>0</td>\n",
       "      <td>0</td>\n",
       "      <td>1</td>\n",
       "      <td>3</td>\n",
       "      <td>3</td>\n",
       "      <td>4</td>\n",
       "      <td>8</td>\n",
       "      <td>15</td>\n",
       "      <td>...</td>\n",
       "      <td>72</td>\n",
       "      <td>69</td>\n",
       "      <td>24</td>\n",
       "      <td>18</td>\n",
       "      <td>8</td>\n",
       "      <td>3</td>\n",
       "      <td>0</td>\n",
       "      <td>0</td>\n",
       "      <td>0</td>\n",
       "      <td>Negative</td>\n",
       "    </tr>\n",
       "    <tr>\n",
       "      <th>...</th>\n",
       "      <td>...</td>\n",
       "      <td>...</td>\n",
       "      <td>...</td>\n",
       "      <td>...</td>\n",
       "      <td>...</td>\n",
       "      <td>...</td>\n",
       "      <td>...</td>\n",
       "      <td>...</td>\n",
       "      <td>...</td>\n",
       "      <td>...</td>\n",
       "      <td>...</td>\n",
       "      <td>...</td>\n",
       "      <td>...</td>\n",
       "      <td>...</td>\n",
       "      <td>...</td>\n",
       "      <td>...</td>\n",
       "      <td>...</td>\n",
       "      <td>...</td>\n",
       "      <td>...</td>\n",
       "      <td>...</td>\n",
       "      <td>...</td>\n",
       "    </tr>\n",
       "    <tr>\n",
       "      <th>13277</th>\n",
       "      <td>13277</td>\n",
       "      <td>3</td>\n",
       "      <td>12</td>\n",
       "      <td>10</td>\n",
       "      <td>12</td>\n",
       "      <td>22</td>\n",
       "      <td>17</td>\n",
       "      <td>25</td>\n",
       "      <td>38</td>\n",
       "      <td>57</td>\n",
       "      <td>...</td>\n",
       "      <td>326</td>\n",
       "      <td>291</td>\n",
       "      <td>393</td>\n",
       "      <td>454</td>\n",
       "      <td>606</td>\n",
       "      <td>705</td>\n",
       "      <td>1172</td>\n",
       "      <td>1989</td>\n",
       "      <td>592</td>\n",
       "      <td>Parkinsonia</td>\n",
       "    </tr>\n",
       "    <tr>\n",
       "      <th>13278</th>\n",
       "      <td>13278</td>\n",
       "      <td>7</td>\n",
       "      <td>37</td>\n",
       "      <td>64</td>\n",
       "      <td>40</td>\n",
       "      <td>109</td>\n",
       "      <td>124</td>\n",
       "      <td>144</td>\n",
       "      <td>133</td>\n",
       "      <td>190</td>\n",
       "      <td>...</td>\n",
       "      <td>87</td>\n",
       "      <td>106</td>\n",
       "      <td>113</td>\n",
       "      <td>126</td>\n",
       "      <td>112</td>\n",
       "      <td>162</td>\n",
       "      <td>134</td>\n",
       "      <td>115</td>\n",
       "      <td>27</td>\n",
       "      <td>Parkinsonia</td>\n",
       "    </tr>\n",
       "    <tr>\n",
       "      <th>13279</th>\n",
       "      <td>13279</td>\n",
       "      <td>57</td>\n",
       "      <td>163</td>\n",
       "      <td>116</td>\n",
       "      <td>105</td>\n",
       "      <td>127</td>\n",
       "      <td>132</td>\n",
       "      <td>180</td>\n",
       "      <td>171</td>\n",
       "      <td>207</td>\n",
       "      <td>...</td>\n",
       "      <td>77</td>\n",
       "      <td>62</td>\n",
       "      <td>87</td>\n",
       "      <td>82</td>\n",
       "      <td>94</td>\n",
       "      <td>51</td>\n",
       "      <td>67</td>\n",
       "      <td>29</td>\n",
       "      <td>7</td>\n",
       "      <td>Parkinsonia</td>\n",
       "    </tr>\n",
       "    <tr>\n",
       "      <th>13280</th>\n",
       "      <td>13280</td>\n",
       "      <td>56</td>\n",
       "      <td>176</td>\n",
       "      <td>118</td>\n",
       "      <td>98</td>\n",
       "      <td>123</td>\n",
       "      <td>146</td>\n",
       "      <td>166</td>\n",
       "      <td>204</td>\n",
       "      <td>239</td>\n",
       "      <td>...</td>\n",
       "      <td>16</td>\n",
       "      <td>19</td>\n",
       "      <td>28</td>\n",
       "      <td>30</td>\n",
       "      <td>34</td>\n",
       "      <td>21</td>\n",
       "      <td>36</td>\n",
       "      <td>111</td>\n",
       "      <td>68</td>\n",
       "      <td>Parkinsonia</td>\n",
       "    </tr>\n",
       "    <tr>\n",
       "      <th>13281</th>\n",
       "      <td>13281</td>\n",
       "      <td>7</td>\n",
       "      <td>58</td>\n",
       "      <td>74</td>\n",
       "      <td>74</td>\n",
       "      <td>108</td>\n",
       "      <td>134</td>\n",
       "      <td>139</td>\n",
       "      <td>130</td>\n",
       "      <td>187</td>\n",
       "      <td>...</td>\n",
       "      <td>52</td>\n",
       "      <td>50</td>\n",
       "      <td>64</td>\n",
       "      <td>86</td>\n",
       "      <td>96</td>\n",
       "      <td>99</td>\n",
       "      <td>75</td>\n",
       "      <td>85</td>\n",
       "      <td>18</td>\n",
       "      <td>Parkinsonia</td>\n",
       "    </tr>\n",
       "  </tbody>\n",
       "</table>\n",
       "<p>13282 rows × 258 columns</p>\n",
       "</div>"
      ],
      "text/plain": [
       "       Unnamed: 0    0    1    2    3    4    5    6    7    8  ...  247  248  \\\n",
       "0               0  158  480  427  278  334  339  385  476  474  ...   49   38   \n",
       "1               1  315  422  254  231  237  278  359  387  466  ...   41   46   \n",
       "2               2   26  104  114   76   99   94  126  178  169  ...   66   84   \n",
       "3               3   35  135  129   94  177  125  176  192  241  ...   58   85   \n",
       "4               4    0    0    0    1    3    3    4    8   15  ...   72   69   \n",
       "...           ...  ...  ...  ...  ...  ...  ...  ...  ...  ...  ...  ...  ...   \n",
       "13277       13277    3   12   10   12   22   17   25   38   57  ...  326  291   \n",
       "13278       13278    7   37   64   40  109  124  144  133  190  ...   87  106   \n",
       "13279       13279   57  163  116  105  127  132  180  171  207  ...   77   62   \n",
       "13280       13280   56  176  118   98  123  146  166  204  239  ...   16   19   \n",
       "13281       13281    7   58   74   74  108  134  139  130  187  ...   52   50   \n",
       "\n",
       "       249  250  251  252   253   254  255        label  \n",
       "0       60   70   78   69   149   119    3     Negative  \n",
       "1       48   50   64   53    90   185   23     Negative  \n",
       "2       80   91  125  135   183   221   42     Negative  \n",
       "3       69   99  107  154   185   189   46     Negative  \n",
       "4       24   18    8    3     0     0    0     Negative  \n",
       "...    ...  ...  ...  ...   ...   ...  ...          ...  \n",
       "13277  393  454  606  705  1172  1989  592  Parkinsonia  \n",
       "13278  113  126  112  162   134   115   27  Parkinsonia  \n",
       "13279   87   82   94   51    67    29    7  Parkinsonia  \n",
       "13280   28   30   34   21    36   111   68  Parkinsonia  \n",
       "13281   64   86   96   99    75    85   18  Parkinsonia  \n",
       "\n",
       "[13282 rows x 258 columns]"
      ]
     },
     "execution_count": 5,
     "metadata": {},
     "output_type": "execute_result"
    }
   ],
   "source": [
    "df_vec = pd.DataFrame(vectors, columns= range(0,256))\n",
    "df_vec[\"label\"] = Dataset[\"Species\"]\n",
    "df_vec.to_csv(\"file1.csv\")\n",
    "df = pd.read_csv(\"file1.csv\")\n",
    "df"
   ]
  },
  {
   "cell_type": "markdown",
   "id": "bc3aff44",
   "metadata": {},
   "source": [
    "Question 2. Split dataset into a training set and a test set. For each class, perform a training/test split of 80/20."
   ]
  },
  {
   "cell_type": "code",
   "execution_count": 6,
   "id": "82146955",
   "metadata": {},
   "outputs": [],
   "source": [
    "X = df.iloc[:,:-1]\n",
    "Y = df.iloc[:,-1]"
   ]
  },
  {
   "cell_type": "code",
   "execution_count": 7,
   "id": "c8804528",
   "metadata": {},
   "outputs": [],
   "source": [
    "X_train, X_test, y_train, y_test = train_test_split(X, Y, test_size=0.2)"
   ]
  },
  {
   "cell_type": "code",
   "execution_count": 8,
   "id": "049f7df7",
   "metadata": {},
   "outputs": [
    {
     "name": "stdout",
     "output_type": "stream",
     "text": [
      "No. of training examples: 10625\n",
      "No. of testing examples: 2657\n"
     ]
    }
   ],
   "source": [
    "print(f\"No. of training examples: {X_train.shape[0]}\")\n",
    "print(f\"No. of testing examples: {X_test.shape[0]}\")"
   ]
  },
  {
   "cell_type": "markdown",
   "id": "c283c729",
   "metadata": {},
   "source": [
    "Question 3. (Model Selection) Perform 5-fold cross-validation on the training set for k-Nearest Neighbor Classifiers\n",
    "such that 𝑘 = 1, 3, 5, 7 on the dataset. (2 points)\n",
    "    • Plot a graph (x-axis: k; y-axis: validation accuracy (%)). Which 𝑘 has the highest accuracy? (1 point)\n",
    "    • Use the 𝑘 value with the highest accuracy for your k-Nearest Neighbor classifier. What is the test accuracy? (1 point)\n"
   ]
  },
  {
   "cell_type": "code",
   "execution_count": 9,
   "id": "6ac19890",
   "metadata": {},
   "outputs": [
    {
     "data": {
      "text/plain": [
       "([0.894587949086523,\n",
       "  0.8985790263046919,\n",
       "  0.9006873750175712,\n",
       "  0.9003862835610412],\n",
       " [1, 3, 5, 7])"
      ]
     },
     "execution_count": 9,
     "metadata": {},
     "output_type": "execute_result"
    }
   ],
   "source": [
    "k_values = []\n",
    "scores = []\n",
    "\n",
    "def KNNClassifier():\n",
    "    for k in (1,3,5,7):\n",
    "        classifier = KNeighborsClassifier(n_neighbors=k)\n",
    "        result = cross_val_score(classifier, X, Y, cv = 5, scoring='accuracy')\n",
    "        k_values.append(k)\n",
    "        scores.append(np.mean(result))\n",
    "    return scores, k_values\n",
    "KNNClassifier()"
   ]
  },
  {
   "cell_type": "code",
   "execution_count": 10,
   "id": "e8e59282",
   "metadata": {},
   "outputs": [
    {
     "data": {
      "image/png": "[encoded data removed]",
      "text/plain": [
       "<Figure size 432x288 with 1 Axes>"
      ]
     },
     "metadata": {
      "needs_background": "light"
     },
     "output_type": "display_data"
    }
   ],
   "source": [
    "plt.plot(k_values, scores, label = 'Training dataset Accuracy')\n",
    "plt.legend()\n",
    "plt.xlabel('K')\n",
    "plt.ylabel('Accuracy')\n",
    "plt.show()"
   ]
  },
  {
   "cell_type": "markdown",
   "id": "655e0586",
   "metadata": {},
   "source": [
    "## K = 5 has highest accuracy\n",
    "\n",
    "\n",
    "As the above graph shown K=5 is having highest accuracy."
   ]
  },
  {
   "cell_type": "code",
   "execution_count": 11,
   "id": "2960df51",
   "metadata": {},
   "outputs": [
    {
     "name": "stdout",
     "output_type": "stream",
     "text": [
      "0.9860745201354911\n"
     ]
    }
   ],
   "source": [
    "Model_Classifier = KNeighborsClassifier(n_neighbors=5)\n",
    "Model_Classifier.fit(X_train, y_train)\n",
    "predict = Model_Classifier.predict(X_test)\n",
    "print(accuracy_score(y_test,predict))\n"
   ]
  },
  {
   "cell_type": "markdown",
   "id": "cbd18c06",
   "metadata": {},
   "source": [
    "Question 4. (Performance Comparison) Perform 5-fold cross-validation on the 4-class classification (ignore negativeclass) \n",
    "Using the three assigned classification methods\n",
    "1. Decision Tree\n",
    "2. Adaboost\n",
    "3. Neural Network\n",
    "\n",
    "Plot the confusion matrices for the three approaches (clearly label the classes)using the test set \n",
    "(If you use code from any website, please do proper referencing. You will get 0 point for this assignment without proper referencing) (3 points)\n"
   ]
  },
  {
   "cell_type": "markdown",
   "id": "c8566a25",
   "metadata": {},
   "source": [
    "### Ignoring the negative Class in the Dataset"
   ]
  },
  {
   "cell_type": "code",
   "execution_count": 12,
   "id": "5c8901db",
   "metadata": {},
   "outputs": [
    {
     "data": {
      "text/html": [
       "<div>\n",
       "<style scoped>\n",
       "    .dataframe tbody tr th:only-of-type {\n",
       "        vertical-align: middle;\n",
       "    }\n",
       "\n",
       "    .dataframe tbody tr th {\n",
       "        vertical-align: top;\n",
       "    }\n",
       "\n",
       "    .dataframe thead th {\n",
       "        text-align: right;\n",
       "    }\n",
       "</style>\n",
       "<table border=\"1\" class=\"dataframe\">\n",
       "  <thead>\n",
       "    <tr style=\"text-align: right;\">\n",
       "      <th></th>\n",
       "      <th>Unnamed: 0</th>\n",
       "      <th>0</th>\n",
       "      <th>1</th>\n",
       "      <th>2</th>\n",
       "      <th>3</th>\n",
       "      <th>4</th>\n",
       "      <th>5</th>\n",
       "      <th>6</th>\n",
       "      <th>7</th>\n",
       "      <th>8</th>\n",
       "      <th>...</th>\n",
       "      <th>247</th>\n",
       "      <th>248</th>\n",
       "      <th>249</th>\n",
       "      <th>250</th>\n",
       "      <th>251</th>\n",
       "      <th>252</th>\n",
       "      <th>253</th>\n",
       "      <th>254</th>\n",
       "      <th>255</th>\n",
       "      <th>label</th>\n",
       "    </tr>\n",
       "  </thead>\n",
       "  <tbody>\n",
       "    <tr>\n",
       "      <th>9106</th>\n",
       "      <td>9106</td>\n",
       "      <td>0</td>\n",
       "      <td>1</td>\n",
       "      <td>11</td>\n",
       "      <td>20</td>\n",
       "      <td>27</td>\n",
       "      <td>28</td>\n",
       "      <td>32</td>\n",
       "      <td>35</td>\n",
       "      <td>38</td>\n",
       "      <td>...</td>\n",
       "      <td>71</td>\n",
       "      <td>44</td>\n",
       "      <td>70</td>\n",
       "      <td>62</td>\n",
       "      <td>53</td>\n",
       "      <td>41</td>\n",
       "      <td>27</td>\n",
       "      <td>22</td>\n",
       "      <td>2</td>\n",
       "      <td>Siam weed</td>\n",
       "    </tr>\n",
       "    <tr>\n",
       "      <th>9107</th>\n",
       "      <td>9107</td>\n",
       "      <td>3</td>\n",
       "      <td>7</td>\n",
       "      <td>10</td>\n",
       "      <td>10</td>\n",
       "      <td>15</td>\n",
       "      <td>16</td>\n",
       "      <td>17</td>\n",
       "      <td>13</td>\n",
       "      <td>16</td>\n",
       "      <td>...</td>\n",
       "      <td>58</td>\n",
       "      <td>47</td>\n",
       "      <td>54</td>\n",
       "      <td>52</td>\n",
       "      <td>63</td>\n",
       "      <td>60</td>\n",
       "      <td>130</td>\n",
       "      <td>234</td>\n",
       "      <td>67</td>\n",
       "      <td>Siam weed</td>\n",
       "    </tr>\n",
       "    <tr>\n",
       "      <th>9108</th>\n",
       "      <td>9108</td>\n",
       "      <td>5</td>\n",
       "      <td>7</td>\n",
       "      <td>4</td>\n",
       "      <td>5</td>\n",
       "      <td>15</td>\n",
       "      <td>11</td>\n",
       "      <td>16</td>\n",
       "      <td>14</td>\n",
       "      <td>17</td>\n",
       "      <td>...</td>\n",
       "      <td>226</td>\n",
       "      <td>279</td>\n",
       "      <td>245</td>\n",
       "      <td>286</td>\n",
       "      <td>319</td>\n",
       "      <td>401</td>\n",
       "      <td>638</td>\n",
       "      <td>809</td>\n",
       "      <td>174</td>\n",
       "      <td>Siam weed</td>\n",
       "    </tr>\n",
       "    <tr>\n",
       "      <th>9109</th>\n",
       "      <td>9109</td>\n",
       "      <td>1</td>\n",
       "      <td>4</td>\n",
       "      <td>10</td>\n",
       "      <td>6</td>\n",
       "      <td>9</td>\n",
       "      <td>6</td>\n",
       "      <td>8</td>\n",
       "      <td>12</td>\n",
       "      <td>11</td>\n",
       "      <td>...</td>\n",
       "      <td>65</td>\n",
       "      <td>78</td>\n",
       "      <td>57</td>\n",
       "      <td>60</td>\n",
       "      <td>132</td>\n",
       "      <td>125</td>\n",
       "      <td>192</td>\n",
       "      <td>101</td>\n",
       "      <td>21</td>\n",
       "      <td>Siam weed</td>\n",
       "    </tr>\n",
       "    <tr>\n",
       "      <th>9110</th>\n",
       "      <td>9110</td>\n",
       "      <td>7</td>\n",
       "      <td>9</td>\n",
       "      <td>11</td>\n",
       "      <td>4</td>\n",
       "      <td>8</td>\n",
       "      <td>11</td>\n",
       "      <td>13</td>\n",
       "      <td>17</td>\n",
       "      <td>15</td>\n",
       "      <td>...</td>\n",
       "      <td>31</td>\n",
       "      <td>45</td>\n",
       "      <td>43</td>\n",
       "      <td>57</td>\n",
       "      <td>77</td>\n",
       "      <td>56</td>\n",
       "      <td>136</td>\n",
       "      <td>139</td>\n",
       "      <td>50</td>\n",
       "      <td>Siam weed</td>\n",
       "    </tr>\n",
       "  </tbody>\n",
       "</table>\n",
       "<p>5 rows × 258 columns</p>\n",
       "</div>"
      ],
      "text/plain": [
       "      Unnamed: 0  0  1   2   3   4   5   6   7   8  ...  247  248  249  250  \\\n",
       "9106        9106  0  1  11  20  27  28  32  35  38  ...   71   44   70   62   \n",
       "9107        9107  3  7  10  10  15  16  17  13  16  ...   58   47   54   52   \n",
       "9108        9108  5  7   4   5  15  11  16  14  17  ...  226  279  245  286   \n",
       "9109        9109  1  4  10   6   9   6   8  12  11  ...   65   78   57   60   \n",
       "9110        9110  7  9  11   4   8  11  13  17  15  ...   31   45   43   57   \n",
       "\n",
       "      251  252  253  254  255      label  \n",
       "9106   53   41   27   22    2  Siam weed  \n",
       "9107   63   60  130  234   67  Siam weed  \n",
       "9108  319  401  638  809  174  Siam weed  \n",
       "9109  132  125  192  101   21  Siam weed  \n",
       "9110   77   56  136  139   50  Siam weed  \n",
       "\n",
       "[5 rows x 258 columns]"
      ]
     },
     "execution_count": 12,
     "metadata": {},
     "output_type": "execute_result"
    }
   ],
   "source": [
    "Dataset_1 = df[df.label!=\"Negative\"]\n",
    "Dataset_1.head()"
   ]
  },
  {
   "cell_type": "code",
   "execution_count": 13,
   "id": "8a1f8964",
   "metadata": {},
   "outputs": [],
   "source": [
    "X_1 = Dataset_1.iloc[:,:-1]\n",
    "Y_1 = Dataset_1.iloc[:,-1]"
   ]
  },
  {
   "cell_type": "code",
   "execution_count": 14,
   "id": "2e47f365",
   "metadata": {},
   "outputs": [],
   "source": [
    "X_train2, X_test2, y_train2, y_test2 = train_test_split(X_1, Y_1, test_size=0.2)"
   ]
  },
  {
   "cell_type": "markdown",
   "id": "fb4c1916",
   "metadata": {},
   "source": [
    "### Decision Tree"
   ]
  },
  {
   "cell_type": "code",
   "execution_count": 15,
   "id": "4d3df334",
   "metadata": {},
   "outputs": [],
   "source": [
    "decision_tree = DecisionTreeClassifier(criterion=\"entropy\",random_state=42)"
   ]
  },
  {
   "cell_type": "code",
   "execution_count": 16,
   "id": "9d7a946c",
   "metadata": {},
   "outputs": [
    {
     "name": "stdout",
     "output_type": "stream",
     "text": [
      "[[186   0   1   0]\n",
      " [  0 235   0   0]\n",
      " [  0   0 193   0]\n",
      " [  0   0   0 221]]\n",
      "                precision    recall  f1-score   support\n",
      "\n",
      "   Parkinsonia       1.00      0.99      1.00       187\n",
      "Prickly acacia       1.00      1.00      1.00       235\n",
      "   Rubber vine       0.99      1.00      1.00       193\n",
      "     Siam weed       1.00      1.00      1.00       221\n",
      "\n",
      "      accuracy                           1.00       836\n",
      "     macro avg       1.00      1.00      1.00       836\n",
      "  weighted avg       1.00      1.00      1.00       836\n",
      "\n"
     ]
    },
    {
     "data": {
      "text/plain": [
       "<AxesSubplot:title={'center':'Confusion Matrix'}, xlabel='Predicted label', ylabel='True label'>"
      ]
     },
     "execution_count": 16,
     "metadata": {},
     "output_type": "execute_result"
    },
    {
     "data": {
      "image/png": "[encoded data removed]",
      "text/plain": [
       "<Figure size 864x864 with 2 Axes>"
      ]
     },
     "metadata": {
      "needs_background": "light"
     },
     "output_type": "display_data"
    }
   ],
   "source": [
    "decision_tree.fit(X_train2, y_train2)\n",
    "results_tree = decision_tree.predict(X_test2)\n",
    "\n",
    "print(confusion_matrix(y_test2, results_tree))\n",
    "\n",
    "print(classification_report(y_test2, results_tree))\n",
    "\n",
    "skplt.metrics.plot_confusion_matrix(y_test2, results_tree, figsize=(12,12))"
   ]
  },
  {
   "cell_type": "markdown",
   "id": "91f586bf",
   "metadata": {},
   "source": [
    "### Adaboost"
   ]
  },
  {
   "cell_type": "code",
   "execution_count": 17,
   "id": "1baa532a",
   "metadata": {},
   "outputs": [
    {
     "data": {
      "text/plain": [
       "AdaBoostClassifier(base_estimator=DecisionTreeClassifier(max_depth=1),\n",
       "                   n_estimators=200)"
      ]
     },
     "execution_count": 17,
     "metadata": {},
     "output_type": "execute_result"
    }
   ],
   "source": [
    "classifier = AdaBoostClassifier(DecisionTreeClassifier(max_depth = 1),n_estimators = 200)\n",
    "classifier.fit(X_train2, y_train2)"
   ]
  },
  {
   "cell_type": "code",
   "execution_count": 18,
   "id": "c28f906f",
   "metadata": {},
   "outputs": [],
   "source": [
    "predictions_adaboost = classifier.predict(X_test2)"
   ]
  },
  {
   "cell_type": "code",
   "execution_count": 19,
   "id": "372b34be",
   "metadata": {
    "scrolled": false
   },
   "outputs": [
    {
     "name": "stdout",
     "output_type": "stream",
     "text": [
      "[[186   1   0   0]\n",
      " [  0 235   0   0]\n",
      " [  0 193   0   0]\n",
      " [  0   0   0 221]]\n",
      "                precision    recall  f1-score   support\n",
      "\n",
      "   Parkinsonia       1.00      0.99      1.00       187\n",
      "Prickly acacia       0.55      1.00      0.71       235\n",
      "   Rubber vine       0.00      0.00      0.00       193\n",
      "     Siam weed       1.00      1.00      1.00       221\n",
      "\n",
      "      accuracy                           0.77       836\n",
      "     macro avg       0.64      0.75      0.68       836\n",
      "  weighted avg       0.64      0.77      0.69       836\n",
      "\n"
     ]
    },
    {
     "data": {
      "image/png": "[encoded data removed]",
      "text/plain": [
       "<Figure size 864x864 with 2 Axes>"
      ]
     },
     "metadata": {
      "needs_background": "light"
     },
     "output_type": "display_data"
    }
   ],
   "source": [
    "print(confusion_matrix(y_test2, predictions_adaboost))\n",
    "skplt.metrics.plot_confusion_matrix(y_test2, predictions_adaboost, figsize=(12,12))\n",
    "print(classification_report(y_test2, predictions_adaboost))"
   ]
  },
  {
   "cell_type": "markdown",
   "id": "6559af93",
   "metadata": {},
   "source": [
    "### Neural Network"
   ]
  },
  {
   "cell_type": "code",
   "execution_count": 20,
   "id": "36e5e1ee",
   "metadata": {
    "scrolled": false
   },
   "outputs": [
    {
     "name": "stdout",
     "output_type": "stream",
     "text": [
      "                precision    recall  f1-score   support\n",
      "\n",
      "   Parkinsonia       0.99      0.96      0.97       187\n",
      "Prickly acacia       0.96      0.76      0.85       235\n",
      "   Rubber vine       0.77      0.97      0.86       193\n",
      "     Siam weed       0.96      0.98      0.97       221\n",
      "\n",
      "      accuracy                           0.91       836\n",
      "     macro avg       0.92      0.92      0.91       836\n",
      "  weighted avg       0.92      0.91      0.91       836\n",
      "\n"
     ]
    },
    {
     "data": {
      "image/png": "[encoded data removed]",
      "text/plain": [
       "<Figure size 864x864 with 2 Axes>"
      ]
     },
     "metadata": {
      "needs_background": "light"
     },
     "output_type": "display_data"
    }
   ],
   "source": [
    "clf = MLPClassifier(random_state=1, max_iter=300).fit(X_train2, y_train2)\n",
    "clf.predict(X_test2)\n",
    "predictions = clf.predict(X_test2)\n",
    "confusion_matrix(y_test2, predictions)\n",
    "skplt.metrics.plot_confusion_matrix(y_test2, predictions, figsize=(12,12))\n",
    "\n",
    "print(classification_report(y_test2, predictions))"
   ]
  },
  {
   "cell_type": "markdown",
   "id": "501d0424",
   "metadata": {},
   "source": [
    "Based on the confusion matrices (on the test set), which do you think is the best method? Why? (1 point)\n",
    "Based on the validation accuracies (from the 5-fold cross-validation) for the three methods. Which is the best method? (0.5 point)\n",
    "Computer the test accuracies for the three methods. Which is the best method? (0.5 point)\n",
    "Compute the F-measure for the three methods on the test set. Which is the best method? (1 point)"
   ]
  },
  {
   "cell_type": "code",
   "execution_count": 21,
   "id": "ba27c040",
   "metadata": {},
   "outputs": [
    {
     "name": "stdout",
     "output_type": "stream",
     "text": [
      "Neural Network Validation Accuracy =  0.8682634730538922\n",
      "AdaBoost validation Accuracy =  0.755688622754491\n",
      "decisiontree validation Accuracy =  0.9994011976047904\n"
     ]
    }
   ],
   "source": [
    "validation_4class = []\n",
    "\n",
    "#NN\n",
    "nn_scores = cross_val_score(clf, X_train2, y_train2, cv=5)\n",
    "nn_validation_4class = np.mean(nn_scores)\n",
    "validation_4class.append(nn_validation_4class*100)\n",
    "print(\"Neural Network Validation Accuracy = \", nn_validation_4class)\n",
    "\n",
    "#adaboost\n",
    "adaboost_scores = cross_val_score(classifier, X_train2 ,y_train2, cv=5)\n",
    "ada_validation_4class = np.mean(adaboost_scores)\n",
    "validation_4class.append(ada_validation_4class*100)\n",
    "print(\"AdaBoost validation Accuracy = \", ada_validation_4class)\n",
    "\n",
    "#decession tree\n",
    "dtree_scores = cross_val_score(decision_tree, X_train2, y_train2, cv=5)\n",
    "dtree_validation_4class = np.mean(dtree_scores)\n",
    "validation_4class.append(dtree_validation_4class*100)\n",
    "print(\"decisiontree validation Accuracy = \", dtree_validation_4class)"
   ]
  },
  {
   "cell_type": "code",
   "execution_count": 22,
   "id": "773627cb",
   "metadata": {},
   "outputs": [
    {
     "name": "stdout",
     "output_type": "stream",
     "text": [
      "Neural Network: 0.9113487145515332\n",
      "AdaBoost : 0.686410312156949\n",
      "DecisionTree : 0.9988037697453234\n"
     ]
    }
   ],
   "source": [
    "# F1 Score\n",
    "\n",
    "nn_f1 = f1_score(y_test2, predictions, average = 'weighted')\n",
    "print(\"Neural Network:\", nn_f1)\n",
    "\n",
    "adaboost_f1 = f1_score(y_test2, predictions_adaboost, average = 'weighted')\n",
    "print(\"AdaBoost :\", adaboost_f1)\n",
    "\n",
    "dtree_f1 = f1_score(y_test2, results_tree, average = 'weighted')\n",
    "print(\"DecisionTree :\", dtree_f1)"
   ]
  },
  {
   "cell_type": "code",
   "execution_count": 23,
   "id": "85ae2b18",
   "metadata": {},
   "outputs": [
    {
     "name": "stdout",
     "output_type": "stream",
     "text": [
      "Neural Network: 0.9114832535885168\n",
      "AdaBoost : 0.7679425837320574\n",
      "DecisionTree : 0.9988038277511961\n"
     ]
    }
   ],
   "source": [
    "# Accuracy Score\n",
    "\n",
    "nn_accuracy_score = accuracy_score(y_test2, predictions)\n",
    "print(\"Neural Network:\", nn_accuracy_score)\n",
    "\n",
    "adaboost_accuracy=accuracy_score(y_test2, predictions_adaboost)\n",
    "print(\"AdaBoost :\", adaboost_accuracy)\n",
    "\n",
    "dtree_accuracy=accuracy_score(y_test2, results_tree)\n",
    "print(\"DecisionTree :\", dtree_accuracy)"
   ]
  },
  {
   "cell_type": "markdown",
   "id": "7a3824eb",
   "metadata": {},
   "source": [
    "#### Based on the confusion matrices (on the test set), which do you think is the best method? Why? (1 point)\n",
    "\n",
    "Based on the Confusion Matrices, we can see that Neural Network(MLP Classifier) doea a much better job of classifying each catefory than the other two as confusion matrix compares the actual values with respect to predicted values.\n"
   ]
  },
  {
   "cell_type": "markdown",
   "id": "370ca90a",
   "metadata": {},
   "source": [
    "#### Based on the validation accuracies (from the 5-fold cross-validation) for the three methods. Which is the best method? (0.5 point)\n",
    "\n",
    "Based on the 5 fold validation accuracies, we can see that Decision Tree is having highest validation accuracy compared to other algorithms."
   ]
  },
  {
   "cell_type": "markdown",
   "id": "2e0dba3e",
   "metadata": {},
   "source": [
    "#### Computer the test accuracies for the three methods. Which is the best method? (0.5 point)\n",
    "\n",
    "Based on Test Accuracies, we can see that Decision Tree is having highest test accuracy compared to the others so, it is the best method."
   ]
  },
  {
   "cell_type": "markdown",
   "id": "c03add38",
   "metadata": {},
   "source": [
    "#### Compute the F-measure for the three methods on the test set. Which is the best method? (1 point)\n",
    "\n",
    "Based on F-measure, we can see that Decision Tree(MLP Classifier) is having highest F1_score so, it is the best method to implement."
   ]
  },
  {
   "cell_type": "markdown",
   "id": "366f9be9",
   "metadata": {},
   "source": [
    "### Overall, comparably Decision tree is the best classifier for the dataset."
   ]
  },
  {
   "cell_type": "markdown",
   "id": "059574a5",
   "metadata": {},
   "source": [
    "References:\n",
    "    \n",
    "    https://www.geeksforgeeks.org/k-nearest-neighbor-algorithm-in-python/\n",
    "    https://obiiirehman.wordpress.com/2017/05/12/knn-classifier-cross-validation/\n",
    "    https://scikit-learn.org/stable/modules/generated/sklearn.neural_network.MLPClassifier.html\n",
    "    https://www.kdnuggets.com/2022/10/implementing-adaboost-scikitlearn.html"
   ]
  },
  {
   "cell_type": "code",
   "execution_count": null,
   "id": "2c629e9e",
   "metadata": {},
   "outputs": [],
   "source": []
  }
 ],
 "metadata": {
  "kernelspec": {
   "display_name": "Python 3 (ipykernel)",
   "language": "python",
   "name": "python3"
  },
  "language_info": {
   "codemirror_mode": {
    "name": "ipython",
    "version": 3
   },
   "file_extension": ".py",
   "mimetype": "text/x-python",
   "name": "python",
   "nbconvert_exporter": "python",
   "pygments_lexer": "ipython3",
   "version": "3.9.7"
  }
 },
 "nbformat": 4,
 "nbformat_minor": 5
}
